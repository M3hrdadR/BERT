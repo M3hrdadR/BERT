{
 "cells": [
  {
   "cell_type": "code",
   "execution_count": 1,
   "id": "f8673814",
   "metadata": {},
   "outputs": [],
   "source": [
    "import os\n",
    "os.environ['TF_CPP_MIN_LOG_LEVEL'] = '2'\n",
    "from hazm import *\n",
    "import re\n",
    "from string import punctuation\n",
    "import pandas as pd\n",
    "from cleantext import clean\n"
   ]
  },
  {
   "cell_type": "code",
   "execution_count": 2,
   "id": "56142f08",
   "metadata": {},
   "outputs": [],
   "source": [
    "def delete_stop_words(string):\n",
    "    cleaned_string = re.sub(f'[{punctuation}؟،٪×÷»«]+', '', string)\n",
    "    stop_words = utils.stopwords_list()\n",
    "    tokenizer = WordTokenizer()\n",
    "    lst = tokenizer.tokenize(cleaned_string)\n",
    "    res = []\n",
    "    for token in lst:\n",
    "        if token not in stop_words:\n",
    "            res.append(token)\n",
    "    result = \" \".join(res)\n",
    "    return result\n",
    "\n",
    "def cleaning(text):\n",
    "    text = text.strip()\n",
    "\n",
    "    text = clean(text,\n",
    "    fix_unicode=True,\n",
    "    to_ascii=False,\n",
    "    lower=True,\n",
    "    no_line_breaks=True,\n",
    "    no_urls=True,\n",
    "    no_emails=True,\n",
    "    no_phone_numbers=True,\n",
    "    no_numbers=False,\n",
    "    no_digits=False,\n",
    "    no_currency_symbols=True,\n",
    "    no_punct=False,\n",
    "    replace_with_url=\"\",\n",
    "    replace_with_email=\"\",\n",
    "    replace_with_phone_number=\"\",\n",
    "    replace_with_number=\"\",\n",
    "    replace_with_digit=\"0\",\n",
    "    replace_with_currency_symbol=\"\",\n",
    "    )\n",
    "\n",
    "    normalizer = Normalizer()\n",
    "    text = normalizer.normalize(text)\n",
    "    wierd_pattern = re.compile(\"[\"\n",
    "                               u\"\\U0001F600-\\U0001F64F\"  # emoticons\n",
    "                               u\"\\U0001F300-\\U0001F5FF\"  # symbols & pictographs\n",
    "                               u\"\\U0001F680-\\U0001F6FF\"  # transport & map symbols\n",
    "                               u\"\\U0001F1E0-\\U0001F1FF\"  # flags (iOS)\n",
    "                               u\"\\U00002702-\\U000027B0\"\n",
    "                               u\"\\U000024C2-\\U0001F251\"\n",
    "                               u\"\\U0001f926-\\U0001f937\"\n",
    "                               u'\\U00010000-\\U0010ffff'\n",
    "                               u\"\\u200d\"\n",
    "                               u\"\\u2640-\\u2642\"\n",
    "                               u\"\\u2600-\\u2B55\"\n",
    "                               u\"\\u23cf\"\n",
    "                               u\"\\u23e9\"\n",
    "                               u\"\\u231a\"\n",
    "                               u\"\\u3030\"\n",
    "                               u\"\\ufe0f\"\n",
    "                               u\"\\u2069\"\n",
    "                               u\"\\u2066\"\n",
    "                               u\"\\u200c\"\n",
    "                               u\"\\u2068\"\n",
    "                               u\"\\u2067\"\n",
    "                               \"]+\", flags=re.UNICODE)\n",
    "\n",
    "    text = wierd_pattern.sub(r'', text)\n",
    "    text = re.sub(\"#\", \"\", text)\n",
    "    text = re.sub(\"\\s+\", \" \", text)\n",
    "    text = normalizer.affix_spacing(text)\n",
    "    text = normalizer.character_refinement(text)\n",
    "    text = normalizer.punctuation_spacing(text)\n",
    "    return text"
   ]
  },
  {
   "cell_type": "code",
   "execution_count": 3,
   "id": "bb9f7d65",
   "metadata": {},
   "outputs": [
    {
     "name": "stdout",
     "output_type": "stream",
     "text": [
      "dict_keys(['id', 'title', 'text', 'date', 'time', 'category', 'category2'])\n"
     ]
    },
    {
     "data": {
      "text/html": [
       "<div>\n",
       "<style scoped>\n",
       "    .dataframe tbody tr th:only-of-type {\n",
       "        vertical-align: middle;\n",
       "    }\n",
       "\n",
       "    .dataframe tbody tr th {\n",
       "        vertical-align: top;\n",
       "    }\n",
       "\n",
       "    .dataframe thead th {\n",
       "        text-align: right;\n",
       "    }\n",
       "</style>\n",
       "<table border=\"1\" class=\"dataframe\">\n",
       "  <thead>\n",
       "    <tr style=\"text-align: right;\">\n",
       "      <th></th>\n",
       "      <th>text</th>\n",
       "      <th>label</th>\n",
       "    </tr>\n",
       "  </thead>\n",
       "  <tbody>\n",
       "    <tr>\n",
       "      <th>0</th>\n",
       "      <td>وزیر علوم در جمع استادان نمونه کشور گفت: از اس...</td>\n",
       "      <td>آموزشي</td>\n",
       "    </tr>\n",
       "    <tr>\n",
       "      <th>1</th>\n",
       "      <td>به گزارش سرویس صنفی آموزشی خبرگزاری دانشجویان ...</td>\n",
       "      <td>آموزشي</td>\n",
       "    </tr>\n",
       "    <tr>\n",
       "      <th>2</th>\n",
       "      <td>نتایج آزمون دورههای فراگیر مقاطع کارشناسی و کا...</td>\n",
       "      <td>آموزشي</td>\n",
       "    </tr>\n",
       "    <tr>\n",
       "      <th>3</th>\n",
       "      <td></td>\n",
       "      <td>اجتماعي</td>\n",
       "    </tr>\n",
       "    <tr>\n",
       "      <th>4</th>\n",
       "      <td>محمدتقی علوی یزدی، مجری این طرح پژوهشی در اینب...</td>\n",
       "      <td>آموزشي</td>\n",
       "    </tr>\n",
       "    <tr>\n",
       "      <th>...</th>\n",
       "      <td>...</td>\n",
       "      <td>...</td>\n",
       "    </tr>\n",
       "    <tr>\n",
       "      <th>10994</th>\n",
       "      <td>به گزارش ایسنا، در کوران مسابقات دوچرخه سواری ...</td>\n",
       "      <td>ورزشي</td>\n",
       "    </tr>\n",
       "    <tr>\n",
       "      <th>10995</th>\n",
       "      <td>محمد دلیریان در گفتوگو با خبرنگار کشتی خبرگزار...</td>\n",
       "      <td>ورزشي</td>\n",
       "    </tr>\n",
       "    <tr>\n",
       "      <th>10996</th>\n",
       "      <td>به گزارش خبرگزاری دانشجویان ایران (ایسنا)، در ...</td>\n",
       "      <td>ورزشي</td>\n",
       "    </tr>\n",
       "    <tr>\n",
       "      <th>10997</th>\n",
       "      <td>به گزارش خبرگزاری دانشجویان ایران (ایسنا)، ایر...</td>\n",
       "      <td>ورزشي</td>\n",
       "    </tr>\n",
       "    <tr>\n",
       "      <th>10998</th>\n",
       "      <td>هادی شکوری در خصوص دیدار تیمش مقابل راهآهن تهر...</td>\n",
       "      <td>ورزشي</td>\n",
       "    </tr>\n",
       "  </tbody>\n",
       "</table>\n",
       "<p>10999 rows × 2 columns</p>\n",
       "</div>"
      ],
      "text/plain": [
       "                                                    text    label\n",
       "0      وزیر علوم در جمع استادان نمونه کشور گفت: از اس...   آموزشي\n",
       "1      به گزارش سرویس صنفی آموزشی خبرگزاری دانشجویان ...   آموزشي\n",
       "2      نتایج آزمون دورههای فراگیر مقاطع کارشناسی و کا...   آموزشي\n",
       "3                                                         اجتماعي\n",
       "4      محمدتقی علوی یزدی، مجری این طرح پژوهشی در اینب...   آموزشي\n",
       "...                                                  ...      ...\n",
       "10994  به گزارش ایسنا، در کوران مسابقات دوچرخه سواری ...    ورزشي\n",
       "10995  محمد دلیریان در گفتوگو با خبرنگار کشتی خبرگزار...    ورزشي\n",
       "10996  به گزارش خبرگزاری دانشجویان ایران (ایسنا)، در ...    ورزشي\n",
       "10997  به گزارش خبرگزاری دانشجویان ایران (ایسنا)، ایر...    ورزشي\n",
       "10998  هادی شکوری در خصوص دیدار تیمش مقابل راهآهن تهر...    ورزشي\n",
       "\n",
       "[10999 rows x 2 columns]"
      ]
     },
     "execution_count": 3,
     "metadata": {},
     "output_type": "execute_result"
    }
   ],
   "source": [
    "# g = open(\"train.txt\", \"w+\")\n",
    "# h = open(\"test.txt\", \"w+\")\n",
    "\n",
    "\n",
    "\n",
    "persica = PersicaReader('persica.csv')\n",
    "i = 0\n",
    "docs = persica.docs()\n",
    "obj = next(docs)\n",
    "\n",
    "Columns = ['text', 'label']\n",
    "train_df = pd.DataFrame(columns=Columns)\n",
    "test_df = pd.DataFrame(columns=Columns)\n",
    "df = pd.DataFrame(columns=Columns)\n",
    "i = 0\n",
    "print(obj.keys())\n",
    "while obj:\n",
    "    text = obj['text']\n",
    "    label = obj['category2']\n",
    "    text = cleaning(text)\n",
    "    df = pd.concat([df, pd.DataFrame.from_records([{'text': text, 'label': label}])])\n",
    "    try:\n",
    "         obj = next(docs)\n",
    "         i += 1\n",
    "    except StopIteration:\n",
    "         break\n",
    "df.reset_index(drop=True)\n",
    "# print(df.)\n",
    "# df = df.drop(columns=['index'])\n",
    "# g.close()\n",
    "# h.close()"
   ]
  },
  {
   "cell_type": "code",
   "execution_count": 4,
   "id": "31f9b941",
   "metadata": {},
   "outputs": [],
   "source": [
    "from sklearn import preprocessing\n",
    "\n",
    "le = preprocessing.LabelEncoder()\n",
    "\n",
    "df['target'] = le.fit_transform(df['label'])\n",
    "df['label'].unique()\n",
    "\n",
    "df = df.sample(frac=1)\n",
    "\n",
    "train_df = df.sample(frac=0.8, ignore_index=True)\n",
    "test_df = pd.concat([df, train_df])\n",
    "test_df = test_df.drop_duplicates(ignore_index=True, keep=False)"
   ]
  },
  {
   "cell_type": "code",
   "execution_count": 5,
   "id": "3ff2fba6",
   "metadata": {},
   "outputs": [
    {
     "data": {
      "text/plain": [
       "11"
      ]
     },
     "execution_count": 5,
     "metadata": {},
     "output_type": "execute_result"
    }
   ],
   "source": [
    "test_df['label'].nunique()"
   ]
  },
  {
   "cell_type": "code",
   "execution_count": 6,
   "id": "f360da3b",
   "metadata": {},
   "outputs": [
    {
     "data": {
      "text/plain": [
       "11"
      ]
     },
     "execution_count": 6,
     "metadata": {},
     "output_type": "execute_result"
    }
   ],
   "source": [
    "train_df['label'].nunique()"
   ]
  },
  {
   "cell_type": "code",
   "execution_count": 7,
   "id": "c8938e83",
   "metadata": {},
   "outputs": [
    {
     "data": {
      "text/plain": [
       "0      1\n",
       "1      5\n",
       "2      3\n",
       "3      4\n",
       "4      4\n",
       "5      2\n",
       "6      9\n",
       "7     10\n",
       "8      1\n",
       "9      0\n",
       "10    10\n",
       "11     9\n",
       "12     6\n",
       "13     3\n",
       "14     6\n",
       "15     3\n",
       "16     3\n",
       "17     7\n",
       "18     2\n",
       "19     2\n",
       "20     2\n",
       "21    10\n",
       "22     6\n",
       "23     1\n",
       "24     2\n",
       "25     9\n",
       "26     3\n",
       "27     9\n",
       "28     7\n",
       "29     1\n",
       "30    10\n",
       "31     1\n",
       "32    10\n",
       "33     2\n",
       "34     5\n",
       "35     0\n",
       "36     7\n",
       "37    10\n",
       "38     4\n",
       "39     5\n",
       "40     7\n",
       "41     5\n",
       "42     8\n",
       "43     2\n",
       "44     4\n",
       "45     9\n",
       "46     9\n",
       "47     6\n",
       "48     8\n",
       "49     1\n",
       "Name: target, dtype: int64"
      ]
     },
     "execution_count": 7,
     "metadata": {},
     "output_type": "execute_result"
    }
   ],
   "source": [
    "test_df['target'].iloc[0:50]"
   ]
  },
  {
   "cell_type": "code",
   "execution_count": 8,
   "id": "c216aab1",
   "metadata": {},
   "outputs": [],
   "source": [
    "train_df.to_csv('train_set_text.csv')\n",
    "test_df.to_csv('test_set_text.csv')"
   ]
  },
  {
   "cell_type": "code",
   "execution_count": null,
   "id": "3880aa97",
   "metadata": {},
   "outputs": [],
   "source": []
  }
 ],
 "metadata": {
  "kernelspec": {
   "display_name": "Python 3 (ipykernel)",
   "language": "python",
   "name": "python3"
  },
  "language_info": {
   "codemirror_mode": {
    "name": "ipython",
    "version": 3
   },
   "file_extension": ".py",
   "mimetype": "text/x-python",
   "name": "python",
   "nbconvert_exporter": "python",
   "pygments_lexer": "ipython3",
   "version": "3.9.7"
  }
 },
 "nbformat": 4,
 "nbformat_minor": 5
}
